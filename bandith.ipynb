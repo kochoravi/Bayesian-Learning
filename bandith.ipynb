{
 "cells": [
  {
   "cell_type": "code",
   "execution_count": 63,
   "metadata": {
    "collapsed": true
   },
   "outputs": [],
   "source": [
    "from pymc import rbeta\n",
    "import scipy.stats as stats\n",
    "import numpy as np\n",
    "\n",
    "\n",
    "\n",
    "class Bandits(object):\n",
    "\n",
    "    \"\"\"\n",
    "    This class represents N bandits machines.\n",
    "\n",
    "    parameters:\n",
    "        p_array: a (n,) Numpy array of probabilities >0, <1.\n",
    "\n",
    "    methods:\n",
    "        pull( i ): return the results, 0 or 1, of pulling \n",
    "                   the ith bandit.\n",
    "    \"\"\"\n",
    "\n",
    "    def __init__(self, p_array):\n",
    "        self.p = p_array\n",
    "        self.optimal = np.argmax(p_array)\n",
    "\n",
    "    def pull(self, i):\n",
    "        # i is which arm to pull\n",
    "        return np.random.rand() < self.p[i]\n",
    "\n",
    "    def __len__(self):\n",
    "        return len(self.p)\n",
    "\n",
    "\n",
    "class BayesianStrategy(object):\n",
    "\n",
    "    \"\"\"\n",
    "    Implements a online, learning strategy to solve\n",
    "    the Multi-Armed Bandit problem.\n",
    "    \n",
    "    parameters:\n",
    "        bandits: a Bandit class with .pull method\n",
    "    \n",
    "    methods:\n",
    "        sample_bandits(n): sample and train on n pulls.\n",
    "\n",
    "    attributes:\n",
    "        N: the cumulative number of samples\n",
    "        choices: the historical choices as a (N,) array\n",
    "        bb_score: the historical score as a (N,) array\n",
    "    \"\"\"\n",
    "\n",
    "    def __init__(self, bandits):\n",
    "\n",
    "        self.bandits = bandits\n",
    "        n_bandits = len(self.bandits)\n",
    "        self.wins = np.zeros(n_bandits)\n",
    "        self.trials = np.zeros(n_bandits)\n",
    "        self.N = 0\n",
    "        self.choices = []\n",
    "        self.bb_score = []\n",
    "\n",
    "    def sample_bandits(self, n=1):\n",
    "\n",
    "        bb_score = np.zeros(n)\n",
    "        choices = np.zeros(n)\n",
    "\n",
    "        for k in range(n):\n",
    "            # sample from the bandits's priors, and select the largest sample\n",
    "            choice = np.argmax(rbeta(1 + self.wins, 1 + self.trials - self.wins))\n",
    "\n",
    "            # sample the chosen bandit\n",
    "            result = self.bandits.pull(choice)\n",
    "            #print result\n",
    "\n",
    "            # update priors and score\n",
    "            self.wins[choice] += result\n",
    "            self.trials[choice] += 1\n",
    "            bb_score[k] = result\n",
    "            self.N += 1\n",
    "            choices[k] = choice\n",
    "\n",
    "        self.bb_score = np.r_[self.bb_score, bb_score]\n",
    "        self.choices = np.r_[self.choices, choices]\n",
    "        return self.choices, self.wins, self.trials"
   ]
  },
  {
   "cell_type": "code",
   "execution_count": 64,
   "metadata": {
    "collapsed": false
   },
   "outputs": [
    {
     "data": {
      "text/plain": [
       "(array([ 0.,  0.,  1.,  1.,  1.,  1.,  1.,  1.,  1.,  1.,  1.,  1.,  1.,\n",
       "         1.,  1.,  1.,  1.,  1.,  1.,  1.,  1.,  1.,  0.,  1.,  0.,  1.,\n",
       "         1.,  1.,  1.,  1.,  1.,  1.,  1.,  1.,  1.,  1.,  1.,  0.,  0.,  1.]),\n",
       " array([  3.,  17.]),\n",
       " array([  6.,  34.]))"
      ]
     },
     "execution_count": 64,
     "metadata": {},
     "output_type": "execute_result"
    }
   ],
   "source": [
    "hidden_prob = np.array([0.5, 0.5])\n",
    "bandits = Bandits(hidden_prob)\n",
    "bayesian_strat = BayesianStrategy(bandits)\n",
    "bayesian_strat.sample_bandits(40)"
   ]
  },
  {
   "cell_type": "code",
   "execution_count": 9,
   "metadata": {
    "collapsed": false
   },
   "outputs": [
    {
     "name": "stdout",
     "output_type": "stream",
     "text": [
      "(0, 1)\n",
      "(1, 1)\n",
      "(2, 3)\n",
      "(3, 10)\n",
      "(4, 10)\n",
      "(5, 25)\n",
      "(6, 50)\n",
      "(7, 100)\n",
      "(8, 200)\n",
      "(9, 600)\n"
     ]
    }
   ],
   "source": [
    "draw_samples = [1, 1, 3, 10, 10, 25, 50, 100, 200, 600]\n",
    "\n",
    "for j, i in enumerate(draw_samples):\n",
    "    print (j,i)"
   ]
  },
  {
   "cell_type": "code",
   "execution_count": 39,
   "metadata": {
    "collapsed": false
   },
   "outputs": [
    {
     "name": "stdout",
     "output_type": "stream",
     "text": [
      "[ 0.96998417  0.97988798]\n"
     ]
    },
    {
     "data": {
      "text/plain": [
       "1"
      ]
     },
     "execution_count": 39,
     "metadata": {},
     "output_type": "execute_result"
    }
   ],
   "source": [
    "wins = np.array([1,2])\n",
    "trials= np.array([1,2])\n",
    "print rbeta(1 + wins, 1 + trials - wins)\n",
    "np.argmax(rbeta(1 + wins, 1 + trials - wins))"
   ]
  },
  {
   "cell_type": "code",
   "execution_count": 26,
   "metadata": {
    "collapsed": false
   },
   "outputs": [
    {
     "data": {
      "text/plain": [
       "array([1, 2])"
      ]
     },
     "execution_count": 26,
     "metadata": {},
     "output_type": "execute_result"
    }
   ],
   "source": [
    "np.array([1,2])"
   ]
  },
  {
   "cell_type": "code",
   "execution_count": 32,
   "metadata": {
    "collapsed": true
   },
   "outputs": [],
   "source": [
    "beta = stats.beta"
   ]
  },
  {
   "cell_type": "code",
   "execution_count": 36,
   "metadata": {
    "collapsed": false
   },
   "outputs": [
    {
     "data": {
      "text/plain": [
       "array([ 0.09344673,  0.99404444,  0.62616652,  0.81179358,  0.90511153,\n",
       "        0.517745  ,  0.18589692,  0.63750941,  0.52943421,  0.62672183])"
      ]
     },
     "execution_count": 36,
     "metadata": {},
     "output_type": "execute_result"
    }
   ],
   "source": [
    "np.random.random(10)"
   ]
  },
  {
   "cell_type": "code",
   "execution_count": null,
   "metadata": {
    "collapsed": true
   },
   "outputs": [],
   "source": []
  }
 ],
 "metadata": {
  "anaconda-cloud": {},
  "kernelspec": {
   "display_name": "Python [conda env:ana42py27]",
   "language": "python",
   "name": "conda-env-ana42py27-py"
  },
  "language_info": {
   "codemirror_mode": {
    "name": "ipython",
    "version": 2
   },
   "file_extension": ".py",
   "mimetype": "text/x-python",
   "name": "python",
   "nbconvert_exporter": "python",
   "pygments_lexer": "ipython2",
   "version": "2.7.12"
  }
 },
 "nbformat": 4,
 "nbformat_minor": 1
}
